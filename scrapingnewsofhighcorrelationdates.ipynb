{
  "nbformat": 4,
  "nbformat_minor": 0,
  "metadata": {
    "colab": {
      "provenance": []
    },
    "kernelspec": {
      "name": "python3",
      "display_name": "Python 3"
    },
    "language_info": {
      "name": "python"
    }
  },
  "cells": [
    {
      "cell_type": "code",
      "execution_count": null,
      "metadata": {
        "colab": {
          "base_uri": "https://localhost:8080/"
        },
        "id": "sBlhn76ef8ho",
        "outputId": "37351eba-8078-4610-a9cb-689fe8b2d0a7"
      },
      "outputs": [
        {
          "output_type": "stream",
          "name": "stdout",
          "text": [
            "Requirement already satisfied: newsapi-python in /usr/local/lib/python3.10/dist-packages (0.2.7)\n",
            "Requirement already satisfied: requests<3.0.0 in /usr/local/lib/python3.10/dist-packages (from newsapi-python) (2.32.3)\n",
            "Requirement already satisfied: charset-normalizer<4,>=2 in /usr/local/lib/python3.10/dist-packages (from requests<3.0.0->newsapi-python) (3.4.0)\n",
            "Requirement already satisfied: idna<4,>=2.5 in /usr/local/lib/python3.10/dist-packages (from requests<3.0.0->newsapi-python) (3.10)\n",
            "Requirement already satisfied: urllib3<3,>=1.21.1 in /usr/local/lib/python3.10/dist-packages (from requests<3.0.0->newsapi-python) (2.2.3)\n",
            "Requirement already satisfied: certifi>=2017.4.17 in /usr/local/lib/python3.10/dist-packages (from requests<3.0.0->newsapi-python) (2024.8.30)\n",
            "Requirement already satisfied: yfinance in /usr/local/lib/python3.10/dist-packages (0.2.48)\n",
            "Requirement already satisfied: pandas in /usr/local/lib/python3.10/dist-packages (2.2.2)\n",
            "Requirement already satisfied: matplotlib in /usr/local/lib/python3.10/dist-packages (3.8.0)\n",
            "Requirement already satisfied: numpy>=1.16.5 in /usr/local/lib/python3.10/dist-packages (from yfinance) (1.26.4)\n",
            "Requirement already satisfied: requests>=2.31 in /usr/local/lib/python3.10/dist-packages (from yfinance) (2.32.3)\n",
            "Requirement already satisfied: multitasking>=0.0.7 in /usr/local/lib/python3.10/dist-packages (from yfinance) (0.0.11)\n",
            "Requirement already satisfied: lxml>=4.9.1 in /usr/local/lib/python3.10/dist-packages (from yfinance) (5.3.0)\n",
            "Requirement already satisfied: platformdirs>=2.0.0 in /usr/local/lib/python3.10/dist-packages (from yfinance) (4.3.6)\n",
            "Requirement already satisfied: pytz>=2022.5 in /usr/local/lib/python3.10/dist-packages (from yfinance) (2024.2)\n",
            "Requirement already satisfied: frozendict>=2.3.4 in /usr/local/lib/python3.10/dist-packages (from yfinance) (2.4.6)\n",
            "Requirement already satisfied: peewee>=3.16.2 in /usr/local/lib/python3.10/dist-packages (from yfinance) (3.17.7)\n",
            "Requirement already satisfied: beautifulsoup4>=4.11.1 in /usr/local/lib/python3.10/dist-packages (from yfinance) (4.12.3)\n",
            "Requirement already satisfied: html5lib>=1.1 in /usr/local/lib/python3.10/dist-packages (from yfinance) (1.1)\n",
            "Requirement already satisfied: python-dateutil>=2.8.2 in /usr/local/lib/python3.10/dist-packages (from pandas) (2.8.2)\n",
            "Requirement already satisfied: tzdata>=2022.7 in /usr/local/lib/python3.10/dist-packages (from pandas) (2024.2)\n",
            "Requirement already satisfied: contourpy>=1.0.1 in /usr/local/lib/python3.10/dist-packages (from matplotlib) (1.3.0)\n",
            "Requirement already satisfied: cycler>=0.10 in /usr/local/lib/python3.10/dist-packages (from matplotlib) (0.12.1)\n",
            "Requirement already satisfied: fonttools>=4.22.0 in /usr/local/lib/python3.10/dist-packages (from matplotlib) (4.54.1)\n",
            "Requirement already satisfied: kiwisolver>=1.0.1 in /usr/local/lib/python3.10/dist-packages (from matplotlib) (1.4.7)\n",
            "Requirement already satisfied: packaging>=20.0 in /usr/local/lib/python3.10/dist-packages (from matplotlib) (24.1)\n",
            "Requirement already satisfied: pillow>=6.2.0 in /usr/local/lib/python3.10/dist-packages (from matplotlib) (10.4.0)\n",
            "Requirement already satisfied: pyparsing>=2.3.1 in /usr/local/lib/python3.10/dist-packages (from matplotlib) (3.2.0)\n",
            "Requirement already satisfied: soupsieve>1.2 in /usr/local/lib/python3.10/dist-packages (from beautifulsoup4>=4.11.1->yfinance) (2.6)\n",
            "Requirement already satisfied: six>=1.9 in /usr/local/lib/python3.10/dist-packages (from html5lib>=1.1->yfinance) (1.16.0)\n",
            "Requirement already satisfied: webencodings in /usr/local/lib/python3.10/dist-packages (from html5lib>=1.1->yfinance) (0.5.1)\n",
            "Requirement already satisfied: charset-normalizer<4,>=2 in /usr/local/lib/python3.10/dist-packages (from requests>=2.31->yfinance) (3.4.0)\n",
            "Requirement already satisfied: idna<4,>=2.5 in /usr/local/lib/python3.10/dist-packages (from requests>=2.31->yfinance) (3.10)\n",
            "Requirement already satisfied: urllib3<3,>=1.21.1 in /usr/local/lib/python3.10/dist-packages (from requests>=2.31->yfinance) (2.2.3)\n",
            "Requirement already satisfied: certifi>=2017.4.17 in /usr/local/lib/python3.10/dist-packages (from requests>=2.31->yfinance) (2024.8.30)\n"
          ]
        }
      ],
      "source": [
        "!pip install newsapi-python\n",
        "!pip install yfinance pandas matplotlib\n"
      ]
    },
    {
      "cell_type": "code",
      "source": [
        "import requests\n",
        "import pandas as pd\n",
        "\n",
        "# Define the base URL for GDELT API\n",
        "base_url = \"https://api.gdeltproject.org/api/v2/doc/doc\"\n",
        "\n",
        "# Define query parameters\n",
        "params = {\n",
        "    'query': '\"Nigeria\"',       # Search for the keyword Nigeria\n",
        "    'mode': 'artlist',          # Request list of articles\n",
        "    'maxrecords': 100,          # Maximum number of articles to retrieve\n",
        "    'timespan': '1week',        # Set timespan to retrieve articles from the past week\n",
        "    'sort': 'date'              # Sort articles by date\n",
        "}\n",
        "\n",
        "# Make the API request\n",
        "response = requests.get(base_url, params=params)\n",
        "\n",
        "# Parse the response JSON\n",
        "try:\n",
        "    data = response.json()\n",
        "    articles = data.get('articles', [])\n",
        "\n",
        "    # Collect article details\n",
        "    news_data = []\n",
        "    for article in articles:\n",
        "        news_data.append({\n",
        "            'Title': article.get('title', 'N/A'),\n",
        "            'Date': article.get('seendate', 'N/A'),\n",
        "            'Source': article.get('source', 'N/A'),\n",
        "            'URL': article.get('url', 'N/A')\n",
        "        })\n",
        "\n",
        "    # Convert to a DataFrame for better readability\n",
        "    news_df = pd.DataFrame(news_data)\n",
        "    print(\"Recent Articles about Nigeria:\")\n",
        "    print(news_df)\n",
        "\n",
        "except ValueError:\n",
        "    print(\"Failed to retrieve JSON. Response content:\")\n",
        "    print(response.text)\n"
      ],
      "metadata": {
        "colab": {
          "base_uri": "https://localhost:8080/"
        },
        "id": "AJ-zCZqMigh1",
        "outputId": "c4867270-9577-4acf-8499-f15d2d5448be"
      },
      "execution_count": null,
      "outputs": [
        {
          "output_type": "stream",
          "name": "stdout",
          "text": [
            "Failed to retrieve JSON. Response content:\n",
            "Please limit requests to one every 5 seconds or contact kalev.leetaru5@gmail.com for larger queries.\n",
            "\n",
            "\n"
          ]
        }
      ]
    },
    {
      "cell_type": "code",
      "source": [
        "import yfinance as yf\n",
        "import pandas as pd\n",
        "\n",
        "# List of stock symbols for major US petroleum and arms companies\n",
        "petroleum_stocks = ['XOM', 'CVX', 'COP', 'BP', 'MRO', 'PSX', 'VLO']\n",
        "arms_stocks = ['LMT', 'NOC', 'RTX', 'GD', 'BA']\n",
        "\n",
        "# Download stock data for specified companies\n",
        "all_stocks = petroleum_stocks + arms_stocks\n",
        "data = yf.download(all_stocks, start=\"1950-01-01\", end=\"2024-01-01\")['Adj Close']\n",
        "\n",
        "# Calculate daily average stock prices for petroleum and arms companies\n",
        "data['Petroleum_Avg'] = data[petroleum_stocks].mean(axis=1)\n",
        "data['Arms_Avg'] = data[arms_stocks].mean(axis=1)\n",
        "\n",
        "# Calculate rolling correlation between Petroleum_Avg and Arms_Avg with a 90-day window\n",
        "rolling_corr = data['Petroleum_Avg'].rolling(window=90).corr(data['Arms_Avg'])\n",
        "\n",
        "# Filter periods where the correlation is greater than or equal to 0.75\n",
        "high_correlation_periods = rolling_corr[rolling_corr >= 0.75]\n",
        "\n",
        "# Save only dates from 2021 with high correlation to the specified path\n",
        "output_path = \"/content/drive/MyDrive/Datasets/urls.txt\"\n",
        "with open(output_path, \"w\") as file:\n",
        "    for date, corr_value in high_correlation_periods.items():\n",
        "        if date.year == 2021:\n",
        "            file.write(f\"Date: {date.strftime('%Y-%m-%d')}, Correlation: {corr_value:.4f}\\n\")\n",
        "\n",
        "print(f\"High correlation dates from 2021 have been saved to '{output_path}'.\")\n"
      ],
      "metadata": {
        "colab": {
          "base_uri": "https://localhost:8080/"
        },
        "id": "2hLcTkh7uLMa",
        "outputId": "8c71892b-bfe8-4fe6-cae3-b3398b411feb"
      },
      "execution_count": null,
      "outputs": [
        {
          "output_type": "stream",
          "name": "stderr",
          "text": [
            "[*********************100%***********************]  12 of 12 completed\n",
            "ERROR:yfinance:\n",
            "1 Failed download:\n",
            "ERROR:yfinance:['CVX']: OperationalError('database is locked')\n"
          ]
        },
        {
          "output_type": "stream",
          "name": "stdout",
          "text": [
            "High correlation dates from 2021 have been saved to '/content/drive/MyDrive/Datasets/urls.txt'.\n"
          ]
        }
      ]
    },
    {
      "cell_type": "code",
      "source": [
        "# Path to the urls.txt file\n",
        "output_path = \"/content/drive/MyDrive/Datasets/urls.txt\"\n",
        "\n",
        "# Read the dates from the file\n",
        "with open(output_path, \"r\") as file:\n",
        "    lines = file.readlines()\n",
        "\n",
        "# Extract dates from the lines\n",
        "dates = []\n",
        "for line in lines:\n",
        "    date_str = line.split(\",\")[0].split(\": \")[1].strip()  # Get date from the line\n",
        "    dates.append(date_str)\n",
        "\n",
        "# Base URL for the GDELT API\n",
        "base_url = \"https://api.gdeltproject.org/api/v2/doc/doc\"\n",
        "\n",
        "# Generate and print URLs for each date\n",
        "for date in dates:\n",
        "    startdatetime = f\"{date.replace('-', '')}000000\"  # Format: YYYYMMDDHHMMSS\n",
        "    enddatetime = f\"{date.replace('-', '')}235959\"  # Format: YYYYMMDDHHMMSS\n",
        "    query = \"conflict AND USA\"\n",
        "\n",
        "    # Construct the full URL, replacing spaces with %20 for URL encoding\n",
        "    url = f\"{base_url}?query={query.replace(' ', '%20')}&mode=artlist&maxrecords=100&sort=date&startdatetime={startdatetime}&enddatetime={enddatetime}\"\n",
        "\n",
        "    # Print the generated URL\n",
        "    print(url)\n"
      ],
      "metadata": {
        "colab": {
          "base_uri": "https://localhost:8080/"
        },
        "id": "ClODmkkAySuK",
        "outputId": "1fd3895c-51dd-495c-e050-fda7c34b87d4"
      },
      "execution_count": null,
      "outputs": [
        {
          "output_type": "stream",
          "name": "stdout",
          "text": [
            "https://api.gdeltproject.org/api/v2/doc/doc?query=conflict%20AND%20USA&mode=artlist&maxrecords=100&sort=date&startdatetime=20210104000000&enddatetime=20210104235959\n",
            "https://api.gdeltproject.org/api/v2/doc/doc?query=conflict%20AND%20USA&mode=artlist&maxrecords=100&sort=date&startdatetime=20210105000000&enddatetime=20210105235959\n",
            "https://api.gdeltproject.org/api/v2/doc/doc?query=conflict%20AND%20USA&mode=artlist&maxrecords=100&sort=date&startdatetime=20210106000000&enddatetime=20210106235959\n",
            "https://api.gdeltproject.org/api/v2/doc/doc?query=conflict%20AND%20USA&mode=artlist&maxrecords=100&sort=date&startdatetime=20210107000000&enddatetime=20210107235959\n",
            "https://api.gdeltproject.org/api/v2/doc/doc?query=conflict%20AND%20USA&mode=artlist&maxrecords=100&sort=date&startdatetime=20210108000000&enddatetime=20210108235959\n",
            "https://api.gdeltproject.org/api/v2/doc/doc?query=conflict%20AND%20USA&mode=artlist&maxrecords=100&sort=date&startdatetime=20210111000000&enddatetime=20210111235959\n",
            "https://api.gdeltproject.org/api/v2/doc/doc?query=conflict%20AND%20USA&mode=artlist&maxrecords=100&sort=date&startdatetime=20210112000000&enddatetime=20210112235959\n",
            "https://api.gdeltproject.org/api/v2/doc/doc?query=conflict%20AND%20USA&mode=artlist&maxrecords=100&sort=date&startdatetime=20210726000000&enddatetime=20210726235959\n",
            "https://api.gdeltproject.org/api/v2/doc/doc?query=conflict%20AND%20USA&mode=artlist&maxrecords=100&sort=date&startdatetime=20210727000000&enddatetime=20210727235959\n",
            "https://api.gdeltproject.org/api/v2/doc/doc?query=conflict%20AND%20USA&mode=artlist&maxrecords=100&sort=date&startdatetime=20210728000000&enddatetime=20210728235959\n",
            "https://api.gdeltproject.org/api/v2/doc/doc?query=conflict%20AND%20USA&mode=artlist&maxrecords=100&sort=date&startdatetime=20210729000000&enddatetime=20210729235959\n",
            "https://api.gdeltproject.org/api/v2/doc/doc?query=conflict%20AND%20USA&mode=artlist&maxrecords=100&sort=date&startdatetime=20210730000000&enddatetime=20210730235959\n",
            "https://api.gdeltproject.org/api/v2/doc/doc?query=conflict%20AND%20USA&mode=artlist&maxrecords=100&sort=date&startdatetime=20210802000000&enddatetime=20210802235959\n",
            "https://api.gdeltproject.org/api/v2/doc/doc?query=conflict%20AND%20USA&mode=artlist&maxrecords=100&sort=date&startdatetime=20210803000000&enddatetime=20210803235959\n",
            "https://api.gdeltproject.org/api/v2/doc/doc?query=conflict%20AND%20USA&mode=artlist&maxrecords=100&sort=date&startdatetime=20210804000000&enddatetime=20210804235959\n",
            "https://api.gdeltproject.org/api/v2/doc/doc?query=conflict%20AND%20USA&mode=artlist&maxrecords=100&sort=date&startdatetime=20210805000000&enddatetime=20210805235959\n",
            "https://api.gdeltproject.org/api/v2/doc/doc?query=conflict%20AND%20USA&mode=artlist&maxrecords=100&sort=date&startdatetime=20210806000000&enddatetime=20210806235959\n",
            "https://api.gdeltproject.org/api/v2/doc/doc?query=conflict%20AND%20USA&mode=artlist&maxrecords=100&sort=date&startdatetime=20210809000000&enddatetime=20210809235959\n",
            "https://api.gdeltproject.org/api/v2/doc/doc?query=conflict%20AND%20USA&mode=artlist&maxrecords=100&sort=date&startdatetime=20210810000000&enddatetime=20210810235959\n",
            "https://api.gdeltproject.org/api/v2/doc/doc?query=conflict%20AND%20USA&mode=artlist&maxrecords=100&sort=date&startdatetime=20210811000000&enddatetime=20210811235959\n",
            "https://api.gdeltproject.org/api/v2/doc/doc?query=conflict%20AND%20USA&mode=artlist&maxrecords=100&sort=date&startdatetime=20210812000000&enddatetime=20210812235959\n",
            "https://api.gdeltproject.org/api/v2/doc/doc?query=conflict%20AND%20USA&mode=artlist&maxrecords=100&sort=date&startdatetime=20210813000000&enddatetime=20210813235959\n",
            "https://api.gdeltproject.org/api/v2/doc/doc?query=conflict%20AND%20USA&mode=artlist&maxrecords=100&sort=date&startdatetime=20210816000000&enddatetime=20210816235959\n",
            "https://api.gdeltproject.org/api/v2/doc/doc?query=conflict%20AND%20USA&mode=artlist&maxrecords=100&sort=date&startdatetime=20210817000000&enddatetime=20210817235959\n",
            "https://api.gdeltproject.org/api/v2/doc/doc?query=conflict%20AND%20USA&mode=artlist&maxrecords=100&sort=date&startdatetime=20210818000000&enddatetime=20210818235959\n",
            "https://api.gdeltproject.org/api/v2/doc/doc?query=conflict%20AND%20USA&mode=artlist&maxrecords=100&sort=date&startdatetime=20210819000000&enddatetime=20210819235959\n",
            "https://api.gdeltproject.org/api/v2/doc/doc?query=conflict%20AND%20USA&mode=artlist&maxrecords=100&sort=date&startdatetime=20210820000000&enddatetime=20210820235959\n",
            "https://api.gdeltproject.org/api/v2/doc/doc?query=conflict%20AND%20USA&mode=artlist&maxrecords=100&sort=date&startdatetime=20210823000000&enddatetime=20210823235959\n",
            "https://api.gdeltproject.org/api/v2/doc/doc?query=conflict%20AND%20USA&mode=artlist&maxrecords=100&sort=date&startdatetime=20210824000000&enddatetime=20210824235959\n",
            "https://api.gdeltproject.org/api/v2/doc/doc?query=conflict%20AND%20USA&mode=artlist&maxrecords=100&sort=date&startdatetime=20210825000000&enddatetime=20210825235959\n",
            "https://api.gdeltproject.org/api/v2/doc/doc?query=conflict%20AND%20USA&mode=artlist&maxrecords=100&sort=date&startdatetime=20210826000000&enddatetime=20210826235959\n",
            "https://api.gdeltproject.org/api/v2/doc/doc?query=conflict%20AND%20USA&mode=artlist&maxrecords=100&sort=date&startdatetime=20210827000000&enddatetime=20210827235959\n",
            "https://api.gdeltproject.org/api/v2/doc/doc?query=conflict%20AND%20USA&mode=artlist&maxrecords=100&sort=date&startdatetime=20210830000000&enddatetime=20210830235959\n",
            "https://api.gdeltproject.org/api/v2/doc/doc?query=conflict%20AND%20USA&mode=artlist&maxrecords=100&sort=date&startdatetime=20210831000000&enddatetime=20210831235959\n",
            "https://api.gdeltproject.org/api/v2/doc/doc?query=conflict%20AND%20USA&mode=artlist&maxrecords=100&sort=date&startdatetime=20210901000000&enddatetime=20210901235959\n",
            "https://api.gdeltproject.org/api/v2/doc/doc?query=conflict%20AND%20USA&mode=artlist&maxrecords=100&sort=date&startdatetime=20210902000000&enddatetime=20210902235959\n",
            "https://api.gdeltproject.org/api/v2/doc/doc?query=conflict%20AND%20USA&mode=artlist&maxrecords=100&sort=date&startdatetime=20210903000000&enddatetime=20210903235959\n",
            "https://api.gdeltproject.org/api/v2/doc/doc?query=conflict%20AND%20USA&mode=artlist&maxrecords=100&sort=date&startdatetime=20210907000000&enddatetime=20210907235959\n",
            "https://api.gdeltproject.org/api/v2/doc/doc?query=conflict%20AND%20USA&mode=artlist&maxrecords=100&sort=date&startdatetime=20210908000000&enddatetime=20210908235959\n",
            "https://api.gdeltproject.org/api/v2/doc/doc?query=conflict%20AND%20USA&mode=artlist&maxrecords=100&sort=date&startdatetime=20210909000000&enddatetime=20210909235959\n",
            "https://api.gdeltproject.org/api/v2/doc/doc?query=conflict%20AND%20USA&mode=artlist&maxrecords=100&sort=date&startdatetime=20210910000000&enddatetime=20210910235959\n",
            "https://api.gdeltproject.org/api/v2/doc/doc?query=conflict%20AND%20USA&mode=artlist&maxrecords=100&sort=date&startdatetime=20210913000000&enddatetime=20210913235959\n",
            "https://api.gdeltproject.org/api/v2/doc/doc?query=conflict%20AND%20USA&mode=artlist&maxrecords=100&sort=date&startdatetime=20210914000000&enddatetime=20210914235959\n",
            "https://api.gdeltproject.org/api/v2/doc/doc?query=conflict%20AND%20USA&mode=artlist&maxrecords=100&sort=date&startdatetime=20210915000000&enddatetime=20210915235959\n",
            "https://api.gdeltproject.org/api/v2/doc/doc?query=conflict%20AND%20USA&mode=artlist&maxrecords=100&sort=date&startdatetime=20210916000000&enddatetime=20210916235959\n",
            "https://api.gdeltproject.org/api/v2/doc/doc?query=conflict%20AND%20USA&mode=artlist&maxrecords=100&sort=date&startdatetime=20210917000000&enddatetime=20210917235959\n",
            "https://api.gdeltproject.org/api/v2/doc/doc?query=conflict%20AND%20USA&mode=artlist&maxrecords=100&sort=date&startdatetime=20210920000000&enddatetime=20210920235959\n",
            "https://api.gdeltproject.org/api/v2/doc/doc?query=conflict%20AND%20USA&mode=artlist&maxrecords=100&sort=date&startdatetime=20210921000000&enddatetime=20210921235959\n",
            "https://api.gdeltproject.org/api/v2/doc/doc?query=conflict%20AND%20USA&mode=artlist&maxrecords=100&sort=date&startdatetime=20210922000000&enddatetime=20210922235959\n",
            "https://api.gdeltproject.org/api/v2/doc/doc?query=conflict%20AND%20USA&mode=artlist&maxrecords=100&sort=date&startdatetime=20210923000000&enddatetime=20210923235959\n",
            "https://api.gdeltproject.org/api/v2/doc/doc?query=conflict%20AND%20USA&mode=artlist&maxrecords=100&sort=date&startdatetime=20210924000000&enddatetime=20210924235959\n",
            "https://api.gdeltproject.org/api/v2/doc/doc?query=conflict%20AND%20USA&mode=artlist&maxrecords=100&sort=date&startdatetime=20210927000000&enddatetime=20210927235959\n",
            "https://api.gdeltproject.org/api/v2/doc/doc?query=conflict%20AND%20USA&mode=artlist&maxrecords=100&sort=date&startdatetime=20210928000000&enddatetime=20210928235959\n",
            "https://api.gdeltproject.org/api/v2/doc/doc?query=conflict%20AND%20USA&mode=artlist&maxrecords=100&sort=date&startdatetime=20210929000000&enddatetime=20210929235959\n",
            "https://api.gdeltproject.org/api/v2/doc/doc?query=conflict%20AND%20USA&mode=artlist&maxrecords=100&sort=date&startdatetime=20210930000000&enddatetime=20210930235959\n",
            "https://api.gdeltproject.org/api/v2/doc/doc?query=conflict%20AND%20USA&mode=artlist&maxrecords=100&sort=date&startdatetime=20211001000000&enddatetime=20211001235959\n",
            "https://api.gdeltproject.org/api/v2/doc/doc?query=conflict%20AND%20USA&mode=artlist&maxrecords=100&sort=date&startdatetime=20211004000000&enddatetime=20211004235959\n",
            "https://api.gdeltproject.org/api/v2/doc/doc?query=conflict%20AND%20USA&mode=artlist&maxrecords=100&sort=date&startdatetime=20211005000000&enddatetime=20211005235959\n",
            "https://api.gdeltproject.org/api/v2/doc/doc?query=conflict%20AND%20USA&mode=artlist&maxrecords=100&sort=date&startdatetime=20211006000000&enddatetime=20211006235959\n",
            "https://api.gdeltproject.org/api/v2/doc/doc?query=conflict%20AND%20USA&mode=artlist&maxrecords=100&sort=date&startdatetime=20211007000000&enddatetime=20211007235959\n",
            "https://api.gdeltproject.org/api/v2/doc/doc?query=conflict%20AND%20USA&mode=artlist&maxrecords=100&sort=date&startdatetime=20211008000000&enddatetime=20211008235959\n",
            "https://api.gdeltproject.org/api/v2/doc/doc?query=conflict%20AND%20USA&mode=artlist&maxrecords=100&sort=date&startdatetime=20211011000000&enddatetime=20211011235959\n",
            "https://api.gdeltproject.org/api/v2/doc/doc?query=conflict%20AND%20USA&mode=artlist&maxrecords=100&sort=date&startdatetime=20211012000000&enddatetime=20211012235959\n",
            "https://api.gdeltproject.org/api/v2/doc/doc?query=conflict%20AND%20USA&mode=artlist&maxrecords=100&sort=date&startdatetime=20211013000000&enddatetime=20211013235959\n",
            "https://api.gdeltproject.org/api/v2/doc/doc?query=conflict%20AND%20USA&mode=artlist&maxrecords=100&sort=date&startdatetime=20211014000000&enddatetime=20211014235959\n",
            "https://api.gdeltproject.org/api/v2/doc/doc?query=conflict%20AND%20USA&mode=artlist&maxrecords=100&sort=date&startdatetime=20211015000000&enddatetime=20211015235959\n",
            "https://api.gdeltproject.org/api/v2/doc/doc?query=conflict%20AND%20USA&mode=artlist&maxrecords=100&sort=date&startdatetime=20211018000000&enddatetime=20211018235959\n",
            "https://api.gdeltproject.org/api/v2/doc/doc?query=conflict%20AND%20USA&mode=artlist&maxrecords=100&sort=date&startdatetime=20211019000000&enddatetime=20211019235959\n",
            "https://api.gdeltproject.org/api/v2/doc/doc?query=conflict%20AND%20USA&mode=artlist&maxrecords=100&sort=date&startdatetime=20211020000000&enddatetime=20211020235959\n",
            "https://api.gdeltproject.org/api/v2/doc/doc?query=conflict%20AND%20USA&mode=artlist&maxrecords=100&sort=date&startdatetime=20211021000000&enddatetime=20211021235959\n",
            "https://api.gdeltproject.org/api/v2/doc/doc?query=conflict%20AND%20USA&mode=artlist&maxrecords=100&sort=date&startdatetime=20211022000000&enddatetime=20211022235959\n",
            "https://api.gdeltproject.org/api/v2/doc/doc?query=conflict%20AND%20USA&mode=artlist&maxrecords=100&sort=date&startdatetime=20211025000000&enddatetime=20211025235959\n",
            "https://api.gdeltproject.org/api/v2/doc/doc?query=conflict%20AND%20USA&mode=artlist&maxrecords=100&sort=date&startdatetime=20211026000000&enddatetime=20211026235959\n"
          ]
        }
      ]
    }
  ]
}